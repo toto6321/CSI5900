{
 "cells": [
  {
   "cell_type": "code",
   "execution_count": 1,
   "metadata": {
    "collapsed": false
   },
   "outputs": [
    {
     "name": "stdout",
     "output_type": "stream",
     "text": [
      "The number of misclassified examples:  tensor(7)\n"
     ]
    }
   ],
   "source": [
    "import numpy as np\n",
    "import matplotlib.pyplot as plt\n",
    "import torch\n",
    "from torch.autograd import Variable\n"
   ]
  },
  {
   "cell_type": "code",
   "execution_count": 2,
   "metadata": {
    "collapsed": false
   },
   "outputs": [
    {
     "name": "stdout",
     "output_type": "stream",
     "text": [
      "The number of misclassified examples:  tensor(7)\n"
     ]
    }
   ],
   "source": [
    "\n",
    "N = 100  # number of points per class\n",
    "D = 2  # dimensionality\n",
    "K = 3  # number of classes\n",
    "X = np.zeros((N * K, D))  # data matrix (each row = single example)\n",
    "y = np.zeros(N * K, dtype='uint8')  # class labels\n",
    "for j in range(K):\n",
    "    ix = range(N * j, N * (j + 1))\n",
    "    r = np.linspace(0.0, 1, N)  # radius\n",
    "    t = np.linspace(j * 4, (j + 1) * 4, N) + np.random.randn(N) * 0.2  # theta\n",
    "    X[ix] = np.c_[r * np.sin(t), r * np.cos(t)]\n",
    "    y[ix] = j\n",
    "# lets visualize the data:\n",
    "plt.scatter(X[:, 0], X[:, 1], c=y, s=40, cmap=plt.cm.Spectral)\n",
    "plt.show()\n"
   ]
  },
  {
   "cell_type": "code",
   "execution_count": 3,
   "metadata": {
    "collapsed": false
   },
   "outputs": [
    {
     "name": "stdout",
     "output_type": "stream",
     "text": [
      "The number of misclassified examples:  tensor(7)\n"
     ]
    }
   ],
   "source": [
    "dtype = torch.FloatTensor\n",
    "#augment input vectors\n",
    "x1 = Variable(torch.from_numpy(X).type(dtype), requires_grad=False)\n",
    "el1 = torch.cat((torch.ones(100), torch.zeros(200)), 0)\n",
    "el2 = torch.cat((torch.zeros(100), torch.ones(100), torch.zeros(100)), 0)\n",
    "el3 = torch.cat((torch.zeros(200), torch.ones(100)), 0)\n",
    "yy = torch.stack((el1, el2, el3), 1)\n",
    "y1 = Variable(torch.stack((el1, el2, el3), 1), requires_grad=False)\n",
    "h = 50  # size of hidden layer\n",
    "w1 = Variable(0.5 * torch.randn(D, h), requires_grad=True)\n",
    "b1 = Variable(torch.randn(1, h), requires_grad=True)\n",
    "w2 = Variable(0.5 * torch.randn(h, K), requires_grad=True)\n",
    "b2 = Variable(torch.randn((1, K)), requires_grad=True)\n",
    "\n",
    "\n",
    "# some hyperparameters\n",
    "learning_rate = 5e-6\n",
    "# gradient descent loop\n",
    "num_examples = x1.shape[0]\n",
    "for i in range(100000):\n",
    "\n",
    "    # Forward pass\n",
    "    hout = x1.mm(w1) + b1\n",
    "    h_relu = hout.clamp(min=0)\n",
    "    output = h_relu.mm(w2) + b2  # output of NN\n",
    "    # scores = output.clamp(min=0)\n",
    "    scores = output\n",
    "\n",
    "    # compute the loss\n",
    "    loss = (scores - y1).pow(2).sum()\n",
    "    if i % 10000 == 0:\n",
    "        print(i, loss)\n",
    "    loss.backward()\n",
    "\n",
    "    # perform a parameter update\n",
    "    w2.data -= learning_rate * w2.grad.data\n",
    "    w1.data -= learning_rate * w1.grad.data\n",
    "    b2.data -= learning_rate * b2.grad.data\n",
    "    b1.data -= learning_rate * b1.grad.data\n",
    "    w1.grad.data.zero_()  # Manually zero the gradient after the backward pass\n",
    "    w2.grad.data.zero_()\n",
    "    b2.grad.data.zero_()\n",
    "    b1.grad.data.zero_()\n",
    "\n"
   ]
  },
  {
   "cell_type": "code",
   "execution_count": 5,
   "metadata": {
    "collapsed": false
   },
   "outputs": [
    {
     "name": "stdout",
     "output_type": "stream",
     "text": [
      "The number of misclassified examples:  tensor(7)\n"
     ]
    }
   ],
   "source": [
    "# evaluate training set accuracy\n",
    "desired_class = torch.cat((torch.zeros(100), torch.ones(100), torch.add(torch.ones(100), 1)), 0)\n",
    "hout = x1.mm(w1) + b1\n",
    "h_relu = hout.clamp(min=0)\n",
    "output = h_relu.mm(w2) + b2\n",
    "# scores = output.clamp(min=0)\n",
    "scores = output\n",
    "predicted_class = torch.max(scores, 1)\n",
    "predictedClass = np.asarray(predicted_class[1])\n",
    "predictedTC = torch.FloatTensor(predictedClass)\n",
    "# print(predicted_class[1])\n",
    "predicted = torch.squeeze(predictedTC)\n",
    "err = torch.eq(desired_class, predicted)\n",
    "error = N * K - torch.sum(err)\n",
    "print('The number of misclassified examples: ', error)\n"
   ]
  },
  {
   "cell_type": "code",
   "execution_count": null,
   "metadata": {},
   "outputs": [],
   "source": []
  }
 ],
 "metadata": {
  "kernelspec": {
   "display_name": "Python 2",
   "language": "python",
   "name": "python2"
  },
  "language_info": {
   "codemirror_mode": {
    "name": "ipython",
    "version": 2
   },
   "file_extension": ".py",
   "mimetype": "text/x-python",
   "name": "python",
   "nbconvert_exporter": "python",
   "pygments_lexer": "ipython2",
   "version": "2.7.6"
  }
 },
 "nbformat": 4,
 "nbformat_minor": 0
}
